{
 "cells": [
  {
   "cell_type": "code",
   "execution_count": 2,
   "metadata": {},
   "outputs": [
    {
     "data": {
      "text/html": [
       "<div>\n",
       "<style scoped>\n",
       "    .dataframe tbody tr th:only-of-type {\n",
       "        vertical-align: middle;\n",
       "    }\n",
       "\n",
       "    .dataframe tbody tr th {\n",
       "        vertical-align: top;\n",
       "    }\n",
       "\n",
       "    .dataframe thead th {\n",
       "        text-align: right;\n",
       "    }\n",
       "</style>\n",
       "<table border=\"1\" class=\"dataframe\">\n",
       "  <thead>\n",
       "    <tr style=\"text-align: right;\">\n",
       "      <th></th>\n",
       "      <th>LISTING_KIND</th>\n",
       "      <th>LISTING_CITY</th>\n",
       "      <th>LISTING_PRICE</th>\n",
       "      <th>IS_ARCHIVED</th>\n",
       "      <th>ARCHIVE_REASON</th>\n",
       "      <th>LOGIN_COUNTRY_CODE</th>\n",
       "      <th>LISTING_COUNTRY_CODE</th>\n",
       "      <th>LISTING_REGISTRATION_POSSIBLE</th>\n",
       "      <th>ADVERTISER_COMPLETENESS_SCORE</th>\n",
       "      <th>MANAGED_ACCOUNT</th>\n",
       "      <th>HAS_PROFILE_PIC</th>\n",
       "      <th>BROWSER</th>\n",
       "      <th>OS</th>\n",
       "      <th>IS_SCAMMER</th>\n",
       "      <th>ANONYMISED_EMAIL</th>\n",
       "    </tr>\n",
       "  </thead>\n",
       "  <tbody>\n",
       "    <tr>\n",
       "      <th>0</th>\n",
       "      <td>1</td>\n",
       "      <td>Göteborg</td>\n",
       "      <td>725.00</td>\n",
       "      <td>False</td>\n",
       "      <td>NaN</td>\n",
       "      <td>se</td>\n",
       "      <td>se</td>\n",
       "      <td>0</td>\n",
       "      <td>80</td>\n",
       "      <td>False</td>\n",
       "      <td>1</td>\n",
       "      <td>Mobile Safari</td>\n",
       "      <td>iOS</td>\n",
       "      <td>0</td>\n",
       "      <td>bosqlqg@aol.com</td>\n",
       "    </tr>\n",
       "    <tr>\n",
       "      <th>1</th>\n",
       "      <td>1</td>\n",
       "      <td>Göteborg</td>\n",
       "      <td>469.35</td>\n",
       "      <td>False</td>\n",
       "      <td>NaN</td>\n",
       "      <td>se</td>\n",
       "      <td>se</td>\n",
       "      <td>1</td>\n",
       "      <td>70</td>\n",
       "      <td>False</td>\n",
       "      <td>1</td>\n",
       "      <td>Chrome</td>\n",
       "      <td>Android</td>\n",
       "      <td>0</td>\n",
       "      <td>fylm235670@gmail.com</td>\n",
       "    </tr>\n",
       "    <tr>\n",
       "      <th>2</th>\n",
       "      <td>1</td>\n",
       "      <td>Elche</td>\n",
       "      <td>200.00</td>\n",
       "      <td>False</td>\n",
       "      <td>NaN</td>\n",
       "      <td>es</td>\n",
       "      <td>es</td>\n",
       "      <td>0</td>\n",
       "      <td>25</td>\n",
       "      <td>False</td>\n",
       "      <td>0</td>\n",
       "      <td>Chrome</td>\n",
       "      <td>Android</td>\n",
       "      <td>0</td>\n",
       "      <td>mhzasjonfobc@gmail.com</td>\n",
       "    </tr>\n",
       "    <tr>\n",
       "      <th>3</th>\n",
       "      <td>0</td>\n",
       "      <td>Verona</td>\n",
       "      <td>1500.00</td>\n",
       "      <td>False</td>\n",
       "      <td>NaN</td>\n",
       "      <td>it</td>\n",
       "      <td>it</td>\n",
       "      <td>0</td>\n",
       "      <td>86</td>\n",
       "      <td>False</td>\n",
       "      <td>1</td>\n",
       "      <td>Chrome</td>\n",
       "      <td>Mac OS X</td>\n",
       "      <td>0</td>\n",
       "      <td>uclypkijb@italianflat.com</td>\n",
       "    </tr>\n",
       "    <tr>\n",
       "      <th>4</th>\n",
       "      <td>1</td>\n",
       "      <td>Copenhagen</td>\n",
       "      <td>904.16</td>\n",
       "      <td>False</td>\n",
       "      <td>NaN</td>\n",
       "      <td>dk</td>\n",
       "      <td>dk</td>\n",
       "      <td>0</td>\n",
       "      <td>5</td>\n",
       "      <td>False</td>\n",
       "      <td>1</td>\n",
       "      <td>Microsoft Edge</td>\n",
       "      <td>Windows</td>\n",
       "      <td>0</td>\n",
       "      <td>dyrrtatzx.fhcs@outlook.com</td>\n",
       "    </tr>\n",
       "  </tbody>\n",
       "</table>\n",
       "</div>"
      ],
      "text/plain": [
       "   LISTING_KIND LISTING_CITY  LISTING_PRICE  IS_ARCHIVED ARCHIVE_REASON  \\\n",
       "0             1     Göteborg         725.00        False            NaN   \n",
       "1             1     Göteborg         469.35        False            NaN   \n",
       "2             1        Elche         200.00        False            NaN   \n",
       "3             0       Verona        1500.00        False            NaN   \n",
       "4             1   Copenhagen         904.16        False            NaN   \n",
       "\n",
       "  LOGIN_COUNTRY_CODE LISTING_COUNTRY_CODE  LISTING_REGISTRATION_POSSIBLE  \\\n",
       "0                 se                   se                              0   \n",
       "1                 se                   se                              1   \n",
       "2                 es                   es                              0   \n",
       "3                 it                   it                              0   \n",
       "4                 dk                   dk                              0   \n",
       "\n",
       "   ADVERTISER_COMPLETENESS_SCORE  MANAGED_ACCOUNT  HAS_PROFILE_PIC  \\\n",
       "0                             80            False                1   \n",
       "1                             70            False                1   \n",
       "2                             25            False                0   \n",
       "3                             86            False                1   \n",
       "4                              5            False                1   \n",
       "\n",
       "          BROWSER        OS  IS_SCAMMER            ANONYMISED_EMAIL  \n",
       "0   Mobile Safari       iOS           0             bosqlqg@aol.com  \n",
       "1          Chrome   Android           0        fylm235670@gmail.com  \n",
       "2          Chrome   Android           0      mhzasjonfobc@gmail.com  \n",
       "3          Chrome  Mac OS X           0   uclypkijb@italianflat.com  \n",
       "4  Microsoft Edge   Windows           0  dyrrtatzx.fhcs@outlook.com  "
      ]
     },
     "execution_count": 2,
     "metadata": {},
     "output_type": "execute_result"
    }
   ],
   "source": [
    "import pandas as pd\n",
    "\n",
    "train = pd.read_csv('HA_Data_Science_train(1).csv', index_col=False)\n",
    "train.head()"
   ]
  },
  {
   "cell_type": "code",
   "execution_count": 3,
   "metadata": {},
   "outputs": [
    {
     "data": {
      "text/plain": [
       "Index(['LISTING_KIND', 'LISTING_CITY', 'LISTING_PRICE', 'IS_ARCHIVED',\n",
       "       'ARCHIVE_REASON', 'LOGIN_COUNTRY_CODE', 'LISTING_COUNTRY_CODE',\n",
       "       'LISTING_REGISTRATION_POSSIBLE', 'ADVERTISER_COMPLETENESS_SCORE',\n",
       "       'MANAGED_ACCOUNT', 'HAS_PROFILE_PIC', 'BROWSER', 'OS', 'IS_SCAMMER',\n",
       "       'ANONYMISED_EMAIL'],\n",
       "      dtype='object')"
      ]
     },
     "execution_count": 3,
     "metadata": {},
     "output_type": "execute_result"
    }
   ],
   "source": [
    "train.columns"
   ]
  },
  {
   "cell_type": "markdown",
   "metadata": {},
   "source": [
    "# Preprocessing step"
   ]
  },
  {
   "cell_type": "code",
   "execution_count": 4,
   "metadata": {},
   "outputs": [
    {
     "data": {
      "text/plain": [
       "LISTING_KIND                         0\n",
       "LISTING_CITY                         0\n",
       "LISTING_PRICE                        0\n",
       "IS_ARCHIVED                          0\n",
       "ARCHIVE_REASON                   15433\n",
       "LOGIN_COUNTRY_CODE                  29\n",
       "LISTING_COUNTRY_CODE                 0\n",
       "LISTING_REGISTRATION_POSSIBLE        0\n",
       "ADVERTISER_COMPLETENESS_SCORE        0\n",
       "MANAGED_ACCOUNT                      0\n",
       "HAS_PROFILE_PIC                      0\n",
       "BROWSER                            885\n",
       "OS                                 885\n",
       "IS_SCAMMER                           0\n",
       "ANONYMISED_EMAIL                     0\n",
       "dtype: int64"
      ]
     },
     "execution_count": 4,
     "metadata": {},
     "output_type": "execute_result"
    }
   ],
   "source": [
    "train.isnull().sum()"
   ]
  },
  {
   "cell_type": "code",
   "execution_count": 5,
   "metadata": {},
   "outputs": [],
   "source": [
    "# i want to assign numerical values to the nominal values that in which training had to be simple"
   ]
  },
  {
   "cell_type": "code",
   "execution_count": 6,
   "metadata": {},
   "outputs": [
    {
     "name": "stdout",
     "output_type": "stream",
     "text": [
      "{nan: 15433, 'scam': 1050, 'other': 279}\n"
     ]
    }
   ],
   "source": [
    "key_values=dict()\n",
    "for i in train['ARCHIVE_REASON']:\n",
    "    if i in key_values:\n",
    "        key_values[i] += 1\n",
    "    else:\n",
    "        key_values[i] = 1\n",
    "print(key_values)"
   ]
  },
  {
   "cell_type": "code",
   "execution_count": 7,
   "metadata": {},
   "outputs": [],
   "source": [
    "# inserting None values by zero(0)\n",
    "arch_dict = {\"scam\": -1, \"other\": 1, None: 0}\n",
    "train['ARCHIVE_REASON'] = train['ARCHIVE_REASON'].map(arch_dict)\n",
    "index = len(train['ARCHIVE_REASON'])"
   ]
  },
  {
   "cell_type": "code",
   "execution_count": 8,
   "metadata": {},
   "outputs": [],
   "source": [
    "# converting the IS_ARCHIVED feature to discrete numerical values"
   ]
  },
  {
   "cell_type": "code",
   "execution_count": 9,
   "metadata": {},
   "outputs": [],
   "source": [
    "num_feature = {False: -1, True: 1}\n",
    "train['IS_ARCHIVED'] = train['IS_ARCHIVED'].map(num_feature)"
   ]
  },
  {
   "cell_type": "code",
   "execution_count": 10,
   "metadata": {},
   "outputs": [],
   "source": [
    "# and i assign LISTING_COUNTRY_CODE values to the LOGIN_COUNTRY_CODE feature in co-row"
   ]
  },
  {
   "cell_type": "code",
   "execution_count": null,
   "metadata": {},
   "outputs": [],
   "source": []
  },
  {
   "cell_type": "code",
   "execution_count": 11,
   "metadata": {},
   "outputs": [
    {
     "data": {
      "text/plain": [
       "0"
      ]
     },
     "execution_count": 11,
     "metadata": {},
     "output_type": "execute_result"
    }
   ],
   "source": [
    "train['LOGIN_COUNTRY_CODE'].fillna(train['LISTING_COUNTRY_CODE'], inplace=True)\n",
    "train['LOGIN_COUNTRY_CODE'].isnull().sum()"
   ]
  },
  {
   "cell_type": "code",
   "execution_count": 12,
   "metadata": {},
   "outputs": [],
   "source": [
    "# converting OS feature to numerical\n",
    "OSs = train.OS.unique()\n",
    "OSs_dict = dict()\n",
    "os_num = 1\n",
    "for i in OSs:\n",
    "    OSs_dict[i] = os_num\n",
    "    os_num += 1\n",
    "\n",
    "train.OS = train.OS.map(OSs_dict)"
   ]
  },
  {
   "cell_type": "code",
   "execution_count": 13,
   "metadata": {},
   "outputs": [],
   "source": [
    "# converting browser feature to numerical"
   ]
  },
  {
   "cell_type": "code",
   "execution_count": 14,
   "metadata": {},
   "outputs": [],
   "source": [
    "# converting OS feature to numerical\n",
    "browsers = train.BROWSER.unique()\n",
    "browsers_dict = dict()\n",
    "brow_num = 1\n",
    "for i in browsers:\n",
    "    browsers_dict[i] = brow_num\n",
    "    brow_num += 1\n",
    "\n",
    "train.BROWSER = train.BROWSER.map(browsers_dict)"
   ]
  },
  {
   "cell_type": "code",
   "execution_count": 15,
   "metadata": {},
   "outputs": [
    {
     "data": {
      "text/html": [
       "<div>\n",
       "<style scoped>\n",
       "    .dataframe tbody tr th:only-of-type {\n",
       "        vertical-align: middle;\n",
       "    }\n",
       "\n",
       "    .dataframe tbody tr th {\n",
       "        vertical-align: top;\n",
       "    }\n",
       "\n",
       "    .dataframe thead th {\n",
       "        text-align: right;\n",
       "    }\n",
       "</style>\n",
       "<table border=\"1\" class=\"dataframe\">\n",
       "  <thead>\n",
       "    <tr style=\"text-align: right;\">\n",
       "      <th></th>\n",
       "      <th>LISTING_KIND</th>\n",
       "      <th>LISTING_CITY</th>\n",
       "      <th>LISTING_PRICE</th>\n",
       "      <th>IS_ARCHIVED</th>\n",
       "      <th>ARCHIVE_REASON</th>\n",
       "      <th>LOGIN_COUNTRY_CODE</th>\n",
       "      <th>LISTING_COUNTRY_CODE</th>\n",
       "      <th>LISTING_REGISTRATION_POSSIBLE</th>\n",
       "      <th>ADVERTISER_COMPLETENESS_SCORE</th>\n",
       "      <th>MANAGED_ACCOUNT</th>\n",
       "      <th>HAS_PROFILE_PIC</th>\n",
       "      <th>BROWSER</th>\n",
       "      <th>OS</th>\n",
       "      <th>IS_SCAMMER</th>\n",
       "      <th>ANONYMISED_EMAIL</th>\n",
       "    </tr>\n",
       "  </thead>\n",
       "  <tbody>\n",
       "    <tr>\n",
       "      <th>0</th>\n",
       "      <td>1</td>\n",
       "      <td>Göteborg</td>\n",
       "      <td>725.00</td>\n",
       "      <td>-1</td>\n",
       "      <td>NaN</td>\n",
       "      <td>se</td>\n",
       "      <td>se</td>\n",
       "      <td>0</td>\n",
       "      <td>80</td>\n",
       "      <td>False</td>\n",
       "      <td>1</td>\n",
       "      <td>1</td>\n",
       "      <td>1</td>\n",
       "      <td>0</td>\n",
       "      <td>bosqlqg@aol.com</td>\n",
       "    </tr>\n",
       "    <tr>\n",
       "      <th>1</th>\n",
       "      <td>1</td>\n",
       "      <td>Göteborg</td>\n",
       "      <td>469.35</td>\n",
       "      <td>-1</td>\n",
       "      <td>NaN</td>\n",
       "      <td>se</td>\n",
       "      <td>se</td>\n",
       "      <td>1</td>\n",
       "      <td>70</td>\n",
       "      <td>False</td>\n",
       "      <td>1</td>\n",
       "      <td>2</td>\n",
       "      <td>2</td>\n",
       "      <td>0</td>\n",
       "      <td>fylm235670@gmail.com</td>\n",
       "    </tr>\n",
       "    <tr>\n",
       "      <th>2</th>\n",
       "      <td>1</td>\n",
       "      <td>Elche</td>\n",
       "      <td>200.00</td>\n",
       "      <td>-1</td>\n",
       "      <td>NaN</td>\n",
       "      <td>es</td>\n",
       "      <td>es</td>\n",
       "      <td>0</td>\n",
       "      <td>25</td>\n",
       "      <td>False</td>\n",
       "      <td>0</td>\n",
       "      <td>2</td>\n",
       "      <td>2</td>\n",
       "      <td>0</td>\n",
       "      <td>mhzasjonfobc@gmail.com</td>\n",
       "    </tr>\n",
       "    <tr>\n",
       "      <th>3</th>\n",
       "      <td>0</td>\n",
       "      <td>Verona</td>\n",
       "      <td>1500.00</td>\n",
       "      <td>-1</td>\n",
       "      <td>NaN</td>\n",
       "      <td>it</td>\n",
       "      <td>it</td>\n",
       "      <td>0</td>\n",
       "      <td>86</td>\n",
       "      <td>False</td>\n",
       "      <td>1</td>\n",
       "      <td>2</td>\n",
       "      <td>3</td>\n",
       "      <td>0</td>\n",
       "      <td>uclypkijb@italianflat.com</td>\n",
       "    </tr>\n",
       "    <tr>\n",
       "      <th>4</th>\n",
       "      <td>1</td>\n",
       "      <td>Copenhagen</td>\n",
       "      <td>904.16</td>\n",
       "      <td>-1</td>\n",
       "      <td>NaN</td>\n",
       "      <td>dk</td>\n",
       "      <td>dk</td>\n",
       "      <td>0</td>\n",
       "      <td>5</td>\n",
       "      <td>False</td>\n",
       "      <td>1</td>\n",
       "      <td>3</td>\n",
       "      <td>4</td>\n",
       "      <td>0</td>\n",
       "      <td>dyrrtatzx.fhcs@outlook.com</td>\n",
       "    </tr>\n",
       "  </tbody>\n",
       "</table>\n",
       "</div>"
      ],
      "text/plain": [
       "   LISTING_KIND LISTING_CITY  LISTING_PRICE  IS_ARCHIVED  ARCHIVE_REASON  \\\n",
       "0             1     Göteborg         725.00           -1             NaN   \n",
       "1             1     Göteborg         469.35           -1             NaN   \n",
       "2             1        Elche         200.00           -1             NaN   \n",
       "3             0       Verona        1500.00           -1             NaN   \n",
       "4             1   Copenhagen         904.16           -1             NaN   \n",
       "\n",
       "  LOGIN_COUNTRY_CODE LISTING_COUNTRY_CODE  LISTING_REGISTRATION_POSSIBLE  \\\n",
       "0                 se                   se                              0   \n",
       "1                 se                   se                              1   \n",
       "2                 es                   es                              0   \n",
       "3                 it                   it                              0   \n",
       "4                 dk                   dk                              0   \n",
       "\n",
       "   ADVERTISER_COMPLETENESS_SCORE  MANAGED_ACCOUNT  HAS_PROFILE_PIC  BROWSER  \\\n",
       "0                             80            False                1        1   \n",
       "1                             70            False                1        2   \n",
       "2                             25            False                0        2   \n",
       "3                             86            False                1        2   \n",
       "4                              5            False                1        3   \n",
       "\n",
       "   OS  IS_SCAMMER            ANONYMISED_EMAIL  \n",
       "0   1           0             bosqlqg@aol.com  \n",
       "1   2           0        fylm235670@gmail.com  \n",
       "2   2           0      mhzasjonfobc@gmail.com  \n",
       "3   3           0   uclypkijb@italianflat.com  \n",
       "4   4           0  dyrrtatzx.fhcs@outlook.com  "
      ]
     },
     "execution_count": 15,
     "metadata": {},
     "output_type": "execute_result"
    }
   ],
   "source": [
    "train.head()"
   ]
  },
  {
   "cell_type": "code",
   "execution_count": 16,
   "metadata": {},
   "outputs": [
    {
     "data": {
      "text/plain": [
       "LISTING_KIND                         0\n",
       "LISTING_CITY                         0\n",
       "LISTING_PRICE                        0\n",
       "IS_ARCHIVED                          0\n",
       "ARCHIVE_REASON                   15433\n",
       "LOGIN_COUNTRY_CODE                   0\n",
       "LISTING_COUNTRY_CODE                 0\n",
       "LISTING_REGISTRATION_POSSIBLE        0\n",
       "ADVERTISER_COMPLETENESS_SCORE        0\n",
       "MANAGED_ACCOUNT                      0\n",
       "HAS_PROFILE_PIC                      0\n",
       "BROWSER                              0\n",
       "OS                                   0\n",
       "IS_SCAMMER                           0\n",
       "ANONYMISED_EMAIL                     0\n",
       "dtype: int64"
      ]
     },
     "execution_count": 16,
     "metadata": {},
     "output_type": "execute_result"
    }
   ],
   "source": [
    "train.isnull().sum()"
   ]
  },
  {
   "cell_type": "code",
   "execution_count": 17,
   "metadata": {},
   "outputs": [
    {
     "data": {
      "text/plain": [
       "Index(['LISTING_KIND', 'LISTING_CITY', 'LISTING_PRICE', 'IS_ARCHIVED',\n",
       "       'ARCHIVE_REASON', 'LOGIN_COUNTRY_CODE', 'LISTING_COUNTRY_CODE',\n",
       "       'LISTING_REGISTRATION_POSSIBLE', 'ADVERTISER_COMPLETENESS_SCORE',\n",
       "       'MANAGED_ACCOUNT', 'HAS_PROFILE_PIC', 'BROWSER', 'OS', 'IS_SCAMMER',\n",
       "       'ANONYMISED_EMAIL'],\n",
       "      dtype='object')"
      ]
     },
     "execution_count": 17,
     "metadata": {},
     "output_type": "execute_result"
    }
   ],
   "source": [
    "train.columns"
   ]
  },
  {
   "cell_type": "code",
   "execution_count": 18,
   "metadata": {},
   "outputs": [],
   "source": [
    "# converting the MANAGED_ACCOUNT feature to numerical values\n",
    "\n",
    "mang_account = {False: -1, True: 1}\n",
    "train['MANAGED_ACCOUNT'] = train['MANAGED_ACCOUNT'].map(mang_account)"
   ]
  },
  {
   "cell_type": "code",
   "execution_count": 19,
   "metadata": {},
   "outputs": [],
   "source": [
    "# i want to add new feature that is the orientation of the listing and login country\n",
    "\n",
    "orient_country = list()\n",
    "for i in range(train.shape[0]):\n",
    "    if train['LOGIN_COUNTRY_CODE'][i] == train['LISTING_COUNTRY_CODE'][i]:\n",
    "        orient_country.append(0)\n",
    "    else:\n",
    "        orient_country.append(-1/2)\n",
    "        \n",
    "train['COUNTRY_ORI']=orient_country"
   ]
  },
  {
   "cell_type": "code",
   "execution_count": 20,
   "metadata": {},
   "outputs": [],
   "source": [
    "train.drop(['LOGIN_COUNTRY_CODE', 'LISTING_COUNTRY_CODE'], axis=1, inplace=True)"
   ]
  },
  {
   "cell_type": "code",
   "execution_count": 21,
   "metadata": {},
   "outputs": [
    {
     "data": {
      "text/html": [
       "<div>\n",
       "<style scoped>\n",
       "    .dataframe tbody tr th:only-of-type {\n",
       "        vertical-align: middle;\n",
       "    }\n",
       "\n",
       "    .dataframe tbody tr th {\n",
       "        vertical-align: top;\n",
       "    }\n",
       "\n",
       "    .dataframe thead th {\n",
       "        text-align: right;\n",
       "    }\n",
       "</style>\n",
       "<table border=\"1\" class=\"dataframe\">\n",
       "  <thead>\n",
       "    <tr style=\"text-align: right;\">\n",
       "      <th></th>\n",
       "      <th>LISTING_KIND</th>\n",
       "      <th>LISTING_CITY</th>\n",
       "      <th>LISTING_PRICE</th>\n",
       "      <th>IS_ARCHIVED</th>\n",
       "      <th>ARCHIVE_REASON</th>\n",
       "      <th>LISTING_REGISTRATION_POSSIBLE</th>\n",
       "      <th>ADVERTISER_COMPLETENESS_SCORE</th>\n",
       "      <th>MANAGED_ACCOUNT</th>\n",
       "      <th>HAS_PROFILE_PIC</th>\n",
       "      <th>BROWSER</th>\n",
       "      <th>OS</th>\n",
       "      <th>IS_SCAMMER</th>\n",
       "      <th>ANONYMISED_EMAIL</th>\n",
       "      <th>COUNTRY_ORI</th>\n",
       "    </tr>\n",
       "  </thead>\n",
       "  <tbody>\n",
       "    <tr>\n",
       "      <th>0</th>\n",
       "      <td>1</td>\n",
       "      <td>Göteborg</td>\n",
       "      <td>725.00</td>\n",
       "      <td>-1</td>\n",
       "      <td>NaN</td>\n",
       "      <td>0</td>\n",
       "      <td>80</td>\n",
       "      <td>-1</td>\n",
       "      <td>1</td>\n",
       "      <td>1</td>\n",
       "      <td>1</td>\n",
       "      <td>0</td>\n",
       "      <td>bosqlqg@aol.com</td>\n",
       "      <td>0.0</td>\n",
       "    </tr>\n",
       "    <tr>\n",
       "      <th>1</th>\n",
       "      <td>1</td>\n",
       "      <td>Göteborg</td>\n",
       "      <td>469.35</td>\n",
       "      <td>-1</td>\n",
       "      <td>NaN</td>\n",
       "      <td>1</td>\n",
       "      <td>70</td>\n",
       "      <td>-1</td>\n",
       "      <td>1</td>\n",
       "      <td>2</td>\n",
       "      <td>2</td>\n",
       "      <td>0</td>\n",
       "      <td>fylm235670@gmail.com</td>\n",
       "      <td>0.0</td>\n",
       "    </tr>\n",
       "    <tr>\n",
       "      <th>2</th>\n",
       "      <td>1</td>\n",
       "      <td>Elche</td>\n",
       "      <td>200.00</td>\n",
       "      <td>-1</td>\n",
       "      <td>NaN</td>\n",
       "      <td>0</td>\n",
       "      <td>25</td>\n",
       "      <td>-1</td>\n",
       "      <td>0</td>\n",
       "      <td>2</td>\n",
       "      <td>2</td>\n",
       "      <td>0</td>\n",
       "      <td>mhzasjonfobc@gmail.com</td>\n",
       "      <td>0.0</td>\n",
       "    </tr>\n",
       "    <tr>\n",
       "      <th>3</th>\n",
       "      <td>0</td>\n",
       "      <td>Verona</td>\n",
       "      <td>1500.00</td>\n",
       "      <td>-1</td>\n",
       "      <td>NaN</td>\n",
       "      <td>0</td>\n",
       "      <td>86</td>\n",
       "      <td>-1</td>\n",
       "      <td>1</td>\n",
       "      <td>2</td>\n",
       "      <td>3</td>\n",
       "      <td>0</td>\n",
       "      <td>uclypkijb@italianflat.com</td>\n",
       "      <td>0.0</td>\n",
       "    </tr>\n",
       "    <tr>\n",
       "      <th>4</th>\n",
       "      <td>1</td>\n",
       "      <td>Copenhagen</td>\n",
       "      <td>904.16</td>\n",
       "      <td>-1</td>\n",
       "      <td>NaN</td>\n",
       "      <td>0</td>\n",
       "      <td>5</td>\n",
       "      <td>-1</td>\n",
       "      <td>1</td>\n",
       "      <td>3</td>\n",
       "      <td>4</td>\n",
       "      <td>0</td>\n",
       "      <td>dyrrtatzx.fhcs@outlook.com</td>\n",
       "      <td>0.0</td>\n",
       "    </tr>\n",
       "  </tbody>\n",
       "</table>\n",
       "</div>"
      ],
      "text/plain": [
       "   LISTING_KIND LISTING_CITY  LISTING_PRICE  IS_ARCHIVED  ARCHIVE_REASON  \\\n",
       "0             1     Göteborg         725.00           -1             NaN   \n",
       "1             1     Göteborg         469.35           -1             NaN   \n",
       "2             1        Elche         200.00           -1             NaN   \n",
       "3             0       Verona        1500.00           -1             NaN   \n",
       "4             1   Copenhagen         904.16           -1             NaN   \n",
       "\n",
       "   LISTING_REGISTRATION_POSSIBLE  ADVERTISER_COMPLETENESS_SCORE  \\\n",
       "0                              0                             80   \n",
       "1                              1                             70   \n",
       "2                              0                             25   \n",
       "3                              0                             86   \n",
       "4                              0                              5   \n",
       "\n",
       "   MANAGED_ACCOUNT  HAS_PROFILE_PIC  BROWSER  OS  IS_SCAMMER  \\\n",
       "0               -1                1        1   1           0   \n",
       "1               -1                1        2   2           0   \n",
       "2               -1                0        2   2           0   \n",
       "3               -1                1        2   3           0   \n",
       "4               -1                1        3   4           0   \n",
       "\n",
       "             ANONYMISED_EMAIL  COUNTRY_ORI  \n",
       "0             bosqlqg@aol.com          0.0  \n",
       "1        fylm235670@gmail.com          0.0  \n",
       "2      mhzasjonfobc@gmail.com          0.0  \n",
       "3   uclypkijb@italianflat.com          0.0  \n",
       "4  dyrrtatzx.fhcs@outlook.com          0.0  "
      ]
     },
     "execution_count": 21,
     "metadata": {},
     "output_type": "execute_result"
    }
   ],
   "source": [
    "train.head()"
   ]
  },
  {
   "cell_type": "code",
   "execution_count": 22,
   "metadata": {},
   "outputs": [],
   "source": [
    "train_label = train['IS_SCAMMER']\n",
    "train.drop(['LISTING_CITY', 'IS_SCAMMER'], axis=1, inplace=True)"
   ]
  },
  {
   "cell_type": "code",
   "execution_count": 23,
   "metadata": {},
   "outputs": [
    {
     "name": "stderr",
     "output_type": "stream",
     "text": [
      "D:\\ProgramFiles\\Anaconda3\\lib\\site-packages\\ipykernel_launcher.py:8: SettingWithCopyWarning: \n",
      "A value is trying to be set on a copy of a slice from a DataFrame\n",
      "\n",
      "See the caveats in the documentation: http://pandas.pydata.org/pandas-docs/stable/indexing.html#indexing-view-versus-copy\n",
      "  \n"
     ]
    },
    {
     "data": {
      "text/plain": [
       "0                            aol\n",
       "1                          gmail\n",
       "2                          gmail\n",
       "3                    italianflat\n",
       "4                        outlook\n",
       "5                          gmail\n",
       "6                         jjvela\n",
       "7                          gmail\n",
       "8                    italianflat\n",
       "9                        hotmail\n",
       "10                           gmx\n",
       "11                       hotmail\n",
       "12                         gmail\n",
       "13                  homesrentals\n",
       "14               isaccommodation\n",
       "15                         gmail\n",
       "16                  interasmundo\n",
       "17                         yahoo\n",
       "18                         gmail\n",
       "19                         gmail\n",
       "20                         gmail\n",
       "21               isaccommodation\n",
       "22                         gmail\n",
       "23                         gmail\n",
       "24                         gmail\n",
       "25                         gmail\n",
       "26                   habitaccion\n",
       "27                         gmail\n",
       "28                         gmail\n",
       "29       urbandistrictapartments\n",
       "                  ...           \n",
       "16732                      gmail\n",
       "16733            thestudenthotel\n",
       "16734            get-comfortable\n",
       "16735                   alohabcn\n",
       "16736                     excite\n",
       "16737                      gmail\n",
       "16738                    telenet\n",
       "16739                   rentmore\n",
       "16740                    hotmail\n",
       "16741                 alphabitat\n",
       "16742                      gmail\n",
       "16743                        gmx\n",
       "16744                        gmx\n",
       "16745                    hotmail\n",
       "16746                      gmail\n",
       "16747                        gmx\n",
       "16748                      yahoo\n",
       "16749            viennacityflats\n",
       "16750                    wehouse\n",
       "16751                      gmail\n",
       "16752                      yahoo\n",
       "16753                    tiscali\n",
       "16754                      gmail\n",
       "16755                    outlook\n",
       "16756                      gmail\n",
       "16757                    hotmail\n",
       "16758                      gmail\n",
       "16759                      gmail\n",
       "16760                      gmail\n",
       "16761                   t-online\n",
       "Name: ANONYMISED_EMAIL, Length: 16762, dtype: object"
      ]
     },
     "execution_count": 23,
     "metadata": {},
     "output_type": "execute_result"
    }
   ],
   "source": [
    "def email_regex(email):\n",
    "    email_details = email.split('@')\n",
    "    domain = email_details[1]\n",
    "    main_domain = domain.split('.')[0]\n",
    "    return main_domain\n",
    "\n",
    "for i in range(index):\n",
    "    train['ANONYMISED_EMAIL'][i] = email_regex(train['ANONYMISED_EMAIL'][i])\n",
    "train['ANONYMISED_EMAIL']"
   ]
  },
  {
   "cell_type": "code",
   "execution_count": 24,
   "metadata": {},
   "outputs": [],
   "source": [
    "# در این ستون برای ایمیل هایی که با دامنه های زیر هستند تاثیری در کلاهبرداری دارند زیرا ایمیل هایی که با دامنه مخصوص به شرکت هستند\n",
    "# می توان آن را پیگیری کرد اما دامنه های عمومی معلوم نیست که از چه کسی صادر می شود\n",
    "# به همین دلیل برای آن هایی که عمومی هستند مقدار یک۱ را در نظر میگریم چون تاثیر مثبت در کلاهبرداری دارند و برای دامنه های خصوصی \n",
    "# مقدار (۱-)\n",
    "# در نظر میگیریم\n",
    "\n",
    "public_emails = {\"gmail\": 1, \"yahoo\": 1, \"outlook\": 1, \"hotmail\": 1}\n",
    "\n",
    "train['ANONYMISED_EMAIL'] = train['ANONYMISED_EMAIL'].map(public_emails)"
   ]
  },
  {
   "cell_type": "code",
   "execution_count": 25,
   "metadata": {},
   "outputs": [
    {
     "name": "stderr",
     "output_type": "stream",
     "text": [
      "D:\\ProgramFiles\\Anaconda3\\lib\\site-packages\\ipykernel_launcher.py:3: SettingWithCopyWarning: \n",
      "A value is trying to be set on a copy of a slice from a DataFrame\n",
      "\n",
      "See the caveats in the documentation: http://pandas.pydata.org/pandas-docs/stable/indexing.html#indexing-view-versus-copy\n",
      "  This is separate from the ipykernel package so we can avoid doing imports until\n"
     ]
    }
   ],
   "source": [
    "for i in range(index):\n",
    "    if train['ANONYMISED_EMAIL'][i] != 1:\n",
    "        train['ANONYMISED_EMAIL'][i] = -1"
   ]
  },
  {
   "cell_type": "code",
   "execution_count": 26,
   "metadata": {},
   "outputs": [],
   "source": [
    "TRAIN = train"
   ]
  },
  {
   "cell_type": "markdown",
   "metadata": {},
   "source": [
    "# Reading the preprocessed TEST dataset"
   ]
  },
  {
   "cell_type": "code",
   "execution_count": 27,
   "metadata": {},
   "outputs": [],
   "source": [
    "test = pd.read_csv('test.csv', index_col=False)"
   ]
  },
  {
   "cell_type": "code",
   "execution_count": 28,
   "metadata": {},
   "outputs": [],
   "source": [
    "train_class = train_label"
   ]
  },
  {
   "cell_type": "markdown",
   "metadata": {},
   "source": [
    "# training step"
   ]
  },
  {
   "cell_type": "code",
   "execution_count": 29,
   "metadata": {},
   "outputs": [],
   "source": [
    "from sklearn.metrics import accuracy_score\n",
    "from sklearn.metrics import confusion_matrix\n",
    "from sklearn.metrics import classification_report\n",
    "from sklearn.tree import DecisionTreeClassifier\n",
    "from sklearn.feature_extraction.text import TfidfVectorizer,TfidfTransformer,CountVectorizer\n",
    "from sklearn.pipeline import Pipeline\n",
    "from sklearn.model_selection import train_test_split\n",
    "import pandas as pd"
   ]
  },
  {
   "cell_type": "code",
   "execution_count": 30,
   "metadata": {},
   "outputs": [
    {
     "name": "stderr",
     "output_type": "stream",
     "text": [
      "D:\\ProgramFiles\\Anaconda3\\lib\\site-packages\\sklearn\\preprocessing\\data.py:625: DataConversionWarning: Data with input dtype int64, float64 were all converted to float64 by StandardScaler.\n",
      "  return self.partial_fit(X, y)\n",
      "D:\\ProgramFiles\\Anaconda3\\lib\\site-packages\\sklearn\\base.py:462: DataConversionWarning: Data with input dtype int64, float64 were all converted to float64 by StandardScaler.\n",
      "  return self.fit(X, **fit_params).transform(X)\n",
      "D:\\ProgramFiles\\Anaconda3\\lib\\site-packages\\sklearn\\utils\\validation.py:595: DataConversionWarning: Data with input dtype int64 was converted to float64 by StandardScaler.\n",
      "  warnings.warn(msg, DataConversionWarning)\n",
      "D:\\ProgramFiles\\Anaconda3\\lib\\site-packages\\sklearn\\utils\\validation.py:595: DataConversionWarning: Data with input dtype int64 was converted to float64 by StandardScaler.\n",
      "  warnings.warn(msg, DataConversionWarning)\n",
      "D:\\ProgramFiles\\Anaconda3\\lib\\site-packages\\sklearn\\preprocessing\\data.py:625: DataConversionWarning: Data with input dtype int64, float64 were all converted to float64 by StandardScaler.\n",
      "  return self.partial_fit(X, y)\n",
      "D:\\ProgramFiles\\Anaconda3\\lib\\site-packages\\sklearn\\base.py:462: DataConversionWarning: Data with input dtype int64, float64 were all converted to float64 by StandardScaler.\n",
      "  return self.fit(X, **fit_params).transform(X)\n"
     ]
    }
   ],
   "source": [
    "from sklearn.preprocessing import StandardScaler\n",
    "import numpy as np\n",
    "\n",
    "#Z_score normalization===>     v`(i)=(v(i)-mean)/std\n",
    "\n",
    "scalar=StandardScaler(with_mean=True,with_std=True)\n",
    "\n",
    "train = train.fillna(np.mean(train))\n",
    "trainStandIm=scalar.fit_transform(train)\n",
    "trainStandLabels=scalar.fit_transform(np.array(train_label).reshape(-1, 1))\n",
    "\n",
    "# this is for that the two datasets are in the same dimention\n",
    "length = test.shape[0]\n",
    "new_blank = []\n",
    "for i in range(length):\n",
    "    new_blank.append(int(0))\n",
    "test[\"NEW_BLANK\"] = new_blank\n",
    "\n",
    "testStandIm=scalar.fit_transform(test)"
   ]
  },
  {
   "cell_type": "code",
   "execution_count": 31,
   "metadata": {},
   "outputs": [
    {
     "name": "stdout",
     "output_type": "stream",
     "text": [
      "accuracy:\n",
      "0.9722619899785254\n",
      "confusion_matrix: \n",
      "[[5104  151]\n",
      " [   4  329]]\n",
      "classification_report:\n",
      "              precision    recall  f1-score   support\n",
      "\n",
      "           0       1.00      0.97      0.99      5255\n",
      "           1       0.69      0.99      0.81       333\n",
      "\n",
      "   micro avg       0.97      0.97      0.97      5588\n",
      "   macro avg       0.84      0.98      0.90      5588\n",
      "weighted avg       0.98      0.97      0.97      5588\n",
      "\n"
     ]
    }
   ],
   "source": [
    "X_train,X_test,Y_train,Y_test=train_test_split(train,train_label,test_size=float(1/3),random_state=42)\n",
    "\n",
    "\n",
    "\n",
    "#training with using gini index for decision tree\n",
    "\n",
    "train_gini=DecisionTreeClassifier(criterion='gini',max_depth=3)\n",
    "gini_index=Pipeline([('tdidf_gini',TfidfTransformer()),('clfg',train_gini)])\n",
    "gini_index.fit(X_train,Y_train)\n",
    "test_pred_gini=gini_index.predict(X_test)\n",
    "print(\"accuracy:\")\n",
    "print(accuracy_score(Y_test,test_pred_gini))\n",
    "#Confusion Matrix is used to understand the trained classifier behavior over the test dataset or validate dataset.\n",
    "print(\"confusion_matrix: \")\n",
    "print(confusion_matrix(Y_test,test_pred_gini))\n",
    "print(\"classification_report:\")\n",
    "print(classification_report(Y_test,test_pred_gini))"
   ]
  },
  {
   "cell_type": "code",
   "execution_count": 32,
   "metadata": {},
   "outputs": [
    {
     "name": "stdout",
     "output_type": "stream",
     "text": [
      "accuracy:\n",
      "0.9722619899785254\n",
      "confusion_matrix: \n",
      "[[5104  151]\n",
      " [   4  329]]\n",
      "classification_report:\n",
      "              precision    recall  f1-score   support\n",
      "\n",
      "           0       1.00      0.97      0.99      5255\n",
      "           1       0.69      0.99      0.81       333\n",
      "\n",
      "   micro avg       0.97      0.97      0.97      5588\n",
      "   macro avg       0.84      0.98      0.90      5588\n",
      "weighted avg       0.98      0.97      0.97      5588\n",
      "\n"
     ]
    }
   ],
   "source": [
    "#training with using entropy (information gain) for decision tree\n",
    "\n",
    "train_entropy=DecisionTreeClassifier(criterion='entropy',max_depth=2)\n",
    "entropy=Pipeline([('tdidf_entropy',TfidfTransformer()),('clfe',train_entropy)])\n",
    "entropy.fit(X_train,Y_train)\n",
    "test_pred_entropy=entropy.predict(X_test)\n",
    "print(\"accuracy:\")\n",
    "print(accuracy_score(Y_test,test_pred_entropy))\n",
    "print(\"confusion_matrix: \")\n",
    "print(confusion_matrix(Y_test,test_pred_entropy))\n",
    "print(\"classification_report:\")\n",
    "print(classification_report(Y_test,test_pred_entropy))"
   ]
  },
  {
   "cell_type": "code",
   "execution_count": 33,
   "metadata": {},
   "outputs": [
    {
     "name": "stdout",
     "output_type": "stream",
     "text": [
      "accuracy:\n",
      "0.9568718682891911\n",
      "confusion_matrix: \n",
      "[[5218   37]\n",
      " [ 204  129]]\n",
      "classification_report:\n",
      "              precision    recall  f1-score   support\n",
      "\n",
      "           0       0.96      0.99      0.98      5255\n",
      "           1       0.78      0.39      0.52       333\n",
      "\n",
      "   micro avg       0.96      0.96      0.96      5588\n",
      "   macro avg       0.87      0.69      0.75      5588\n",
      "weighted avg       0.95      0.96      0.95      5588\n",
      "\n"
     ]
    }
   ],
   "source": [
    "#classification with KNearestNeighbors\n",
    "\n",
    "\n",
    "from sklearn.neighbors import KNeighborsClassifier as KNN\n",
    "\n",
    "KNN_clf=KNN()\n",
    "KNN_clf.fit(X_train,Y_train)\n",
    "KNN_pred=KNN_clf.predict(X_test)\n",
    "print(\"accuracy:\")\n",
    "print(accuracy_score(Y_test,KNN_pred))\n",
    "print(\"confusion_matrix: \")\n",
    "print(confusion_matrix(Y_test,KNN_pred))\n",
    "print(\"classification_report:\")\n",
    "print(classification_report(Y_test,KNN_pred))"
   ]
  },
  {
   "cell_type": "code",
   "execution_count": null,
   "metadata": {},
   "outputs": [],
   "source": []
  },
  {
   "cell_type": "code",
   "execution_count": 34,
   "metadata": {},
   "outputs": [],
   "source": [
    "# because of the Decision Tree with Entrop or Information gain method gives the best accuracy\n",
    "GINI=DecisionTreeClassifier(criterion='gini',max_depth=3)\n",
    "TRAIN_GINI=Pipeline([('tdidf_gini',TfidfTransformer()),('clfg',GINI)])\n",
    "TRAIN_GINI.fit(trainStandIm,train_label)\n",
    "test_label=TRAIN_GINI.predict(testStandIm)"
   ]
  },
  {
   "cell_type": "code",
   "execution_count": 35,
   "metadata": {},
   "outputs": [
    {
     "data": {
      "text/plain": [
       "array([1, 0, 1, ..., 0, 1, 1], dtype=int64)"
      ]
     },
     "execution_count": 35,
     "metadata": {},
     "output_type": "execute_result"
    }
   ],
   "source": [
    "test_label"
   ]
  },
  {
   "cell_type": "code",
   "execution_count": 36,
   "metadata": {},
   "outputs": [],
   "source": [
    "prediction = pd.DataFrame(test_label, columns=['predictions']).to_csv('prediction.csv')"
   ]
  },
  {
   "cell_type": "code",
   "execution_count": null,
   "metadata": {},
   "outputs": [],
   "source": []
  }
 ],
 "metadata": {
  "kernelspec": {
   "display_name": "Python 3",
   "language": "python",
   "name": "python3"
  },
  "language_info": {
   "codemirror_mode": {
    "name": "ipython",
    "version": 3
   },
   "file_extension": ".py",
   "mimetype": "text/x-python",
   "name": "python",
   "nbconvert_exporter": "python",
   "pygments_lexer": "ipython3",
   "version": "3.6.5"
  }
 },
 "nbformat": 4,
 "nbformat_minor": 4
}

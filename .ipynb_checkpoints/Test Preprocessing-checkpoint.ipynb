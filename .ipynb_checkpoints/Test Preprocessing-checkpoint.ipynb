{
 "cells": [
  {
   "cell_type": "code",
   "execution_count": 1,
   "metadata": {},
   "outputs": [
    {
     "data": {
      "text/html": [
       "<div>\n",
       "<style scoped>\n",
       "    .dataframe tbody tr th:only-of-type {\n",
       "        vertical-align: middle;\n",
       "    }\n",
       "\n",
       "    .dataframe tbody tr th {\n",
       "        vertical-align: top;\n",
       "    }\n",
       "\n",
       "    .dataframe thead th {\n",
       "        text-align: right;\n",
       "    }\n",
       "</style>\n",
       "<table border=\"1\" class=\"dataframe\">\n",
       "  <thead>\n",
       "    <tr style=\"text-align: right;\">\n",
       "      <th></th>\n",
       "      <th>LISTING_KIND</th>\n",
       "      <th>LISTING_CITY</th>\n",
       "      <th>LISTING_PRICE</th>\n",
       "      <th>LOGIN_COUNTRY_CODE</th>\n",
       "      <th>LISTING_COUNTRY_CODE</th>\n",
       "      <th>LISTING_REGISTRATION_POSSIBLE</th>\n",
       "      <th>ADVERTISER_COMPLETENESS_SCORE</th>\n",
       "      <th>MANAGED_ACCOUNT</th>\n",
       "      <th>HAS_PROFILE_PIC</th>\n",
       "      <th>BROWSER</th>\n",
       "      <th>OS</th>\n",
       "      <th>ANONYMISED_EMAIL</th>\n",
       "    </tr>\n",
       "  </thead>\n",
       "  <tbody>\n",
       "    <tr>\n",
       "      <th>0</th>\n",
       "      <td>1</td>\n",
       "      <td>Elche</td>\n",
       "      <td>155.00</td>\n",
       "      <td>es</td>\n",
       "      <td>es</td>\n",
       "      <td>0</td>\n",
       "      <td>35</td>\n",
       "      <td>False</td>\n",
       "      <td>1</td>\n",
       "      <td>Chrome</td>\n",
       "      <td>Android</td>\n",
       "      <td>drhzhephmeo@hotmail.com</td>\n",
       "    </tr>\n",
       "    <tr>\n",
       "      <th>1</th>\n",
       "      <td>1</td>\n",
       "      <td>Tilburg</td>\n",
       "      <td>420.00</td>\n",
       "      <td>nl</td>\n",
       "      <td>nl</td>\n",
       "      <td>1</td>\n",
       "      <td>40</td>\n",
       "      <td>False</td>\n",
       "      <td>1</td>\n",
       "      <td>Microsoft Edge</td>\n",
       "      <td>Windows</td>\n",
       "      <td>jorpr80ckig@gmail.com</td>\n",
       "    </tr>\n",
       "    <tr>\n",
       "      <th>2</th>\n",
       "      <td>1</td>\n",
       "      <td>Las Vegas</td>\n",
       "      <td>591.18</td>\n",
       "      <td>us</td>\n",
       "      <td>us</td>\n",
       "      <td>0</td>\n",
       "      <td>100</td>\n",
       "      <td>False</td>\n",
       "      <td>1</td>\n",
       "      <td>Mobile Safari</td>\n",
       "      <td>iOS</td>\n",
       "      <td>xaswrxawlgba@icloud.com</td>\n",
       "    </tr>\n",
       "    <tr>\n",
       "      <th>3</th>\n",
       "      <td>1</td>\n",
       "      <td>Utrecht</td>\n",
       "      <td>700.00</td>\n",
       "      <td>nl</td>\n",
       "      <td>nl</td>\n",
       "      <td>1</td>\n",
       "      <td>60</td>\n",
       "      <td>False</td>\n",
       "      <td>1</td>\n",
       "      <td>Firefox</td>\n",
       "      <td>Mac OS X</td>\n",
       "      <td>gnszyfo@universityhousing.nl</td>\n",
       "    </tr>\n",
       "    <tr>\n",
       "      <th>4</th>\n",
       "      <td>1</td>\n",
       "      <td>The Hague</td>\n",
       "      <td>600.00</td>\n",
       "      <td>fr</td>\n",
       "      <td>nl</td>\n",
       "      <td>1</td>\n",
       "      <td>54</td>\n",
       "      <td>False</td>\n",
       "      <td>1</td>\n",
       "      <td>Chrome</td>\n",
       "      <td>Windows</td>\n",
       "      <td>ttcjbtm@ziggo.nl</td>\n",
       "    </tr>\n",
       "  </tbody>\n",
       "</table>\n",
       "</div>"
      ],
      "text/plain": [
       "   LISTING_KIND LISTING_CITY  LISTING_PRICE LOGIN_COUNTRY_CODE  \\\n",
       "0             1        Elche         155.00                 es   \n",
       "1             1      Tilburg         420.00                 nl   \n",
       "2             1    Las Vegas         591.18                 us   \n",
       "3             1      Utrecht         700.00                 nl   \n",
       "4             1    The Hague         600.00                 fr   \n",
       "\n",
       "  LISTING_COUNTRY_CODE  LISTING_REGISTRATION_POSSIBLE  \\\n",
       "0                   es                              0   \n",
       "1                   nl                              1   \n",
       "2                   us                              0   \n",
       "3                   nl                              1   \n",
       "4                   nl                              1   \n",
       "\n",
       "   ADVERTISER_COMPLETENESS_SCORE  MANAGED_ACCOUNT  HAS_PROFILE_PIC  \\\n",
       "0                             35            False                1   \n",
       "1                             40            False                1   \n",
       "2                            100            False                1   \n",
       "3                             60            False                1   \n",
       "4                             54            False                1   \n",
       "\n",
       "          BROWSER        OS              ANONYMISED_EMAIL  \n",
       "0          Chrome   Android       drhzhephmeo@hotmail.com  \n",
       "1  Microsoft Edge   Windows         jorpr80ckig@gmail.com  \n",
       "2   Mobile Safari       iOS       xaswrxawlgba@icloud.com  \n",
       "3         Firefox  Mac OS X  gnszyfo@universityhousing.nl  \n",
       "4          Chrome   Windows              ttcjbtm@ziggo.nl  "
      ]
     },
     "execution_count": 1,
     "metadata": {},
     "output_type": "execute_result"
    }
   ],
   "source": [
    "import pandas as pd\n",
    "\n",
    "test = pd.read_csv('HA_Data_Science_test.csv', index_col=False)\n",
    "test.head()"
   ]
  },
  {
   "cell_type": "code",
   "execution_count": 2,
   "metadata": {},
   "outputs": [
    {
     "data": {
      "text/plain": [
       "Index(['LISTING_KIND', 'LISTING_CITY', 'LISTING_PRICE', 'LOGIN_COUNTRY_CODE',\n",
       "       'LISTING_COUNTRY_CODE', 'LISTING_REGISTRATION_POSSIBLE',\n",
       "       'ADVERTISER_COMPLETENESS_SCORE', 'MANAGED_ACCOUNT', 'HAS_PROFILE_PIC',\n",
       "       'BROWSER', 'OS', 'ANONYMISED_EMAIL'],\n",
       "      dtype='object')"
      ]
     },
     "execution_count": 2,
     "metadata": {},
     "output_type": "execute_result"
    }
   ],
   "source": [
    "test.columns"
   ]
  },
  {
   "cell_type": "markdown",
   "metadata": {},
   "source": [
    "# Preprocessing step"
   ]
  },
  {
   "cell_type": "code",
   "execution_count": 3,
   "metadata": {},
   "outputs": [
    {
     "data": {
      "text/plain": [
       "LISTING_KIND                       0\n",
       "LISTING_CITY                       0\n",
       "LISTING_PRICE                      0\n",
       "LOGIN_COUNTRY_CODE                 3\n",
       "LISTING_COUNTRY_CODE               0\n",
       "LISTING_REGISTRATION_POSSIBLE      0\n",
       "ADVERTISER_COMPLETENESS_SCORE      0\n",
       "MANAGED_ACCOUNT                    0\n",
       "HAS_PROFILE_PIC                    0\n",
       "BROWSER                          118\n",
       "OS                               118\n",
       "ANONYMISED_EMAIL                   0\n",
       "dtype: int64"
      ]
     },
     "execution_count": 3,
     "metadata": {},
     "output_type": "execute_result"
    }
   ],
   "source": [
    "test.isnull().sum()"
   ]
  },
  {
   "cell_type": "code",
   "execution_count": 4,
   "metadata": {},
   "outputs": [],
   "source": [
    "# and i assign LISTING_COUNTRY_CODE values to the LOGIN_COUNTRY_CODE feature in co-row"
   ]
  },
  {
   "cell_type": "code",
   "execution_count": 5,
   "metadata": {},
   "outputs": [
    {
     "data": {
      "text/plain": [
       "0"
      ]
     },
     "execution_count": 5,
     "metadata": {},
     "output_type": "execute_result"
    }
   ],
   "source": [
    "test['LOGIN_COUNTRY_CODE'].fillna(test['LISTING_COUNTRY_CODE'], inplace=True)\n",
    "test['LOGIN_COUNTRY_CODE'].isnull().sum()"
   ]
  },
  {
   "cell_type": "code",
   "execution_count": 6,
   "metadata": {},
   "outputs": [],
   "source": [
    "# converting OS feature to numerical\n",
    "OSs = test.OS.unique()\n",
    "OSs_dict = dict()\n",
    "os_num = 1\n",
    "for i in OSs:\n",
    "    OSs_dict[i] = os_num\n",
    "    os_num += 1\n",
    "\n",
    "test.OS = test.OS.map(OSs_dict)"
   ]
  },
  {
   "cell_type": "code",
   "execution_count": 7,
   "metadata": {},
   "outputs": [],
   "source": [
    "# converting browser feature to numerical"
   ]
  },
  {
   "cell_type": "code",
   "execution_count": 8,
   "metadata": {},
   "outputs": [],
   "source": [
    "# converting OS feature to numerical\n",
    "browsers = test.BROWSER.unique()\n",
    "browsers_dict = dict()\n",
    "brow_num = 1\n",
    "for i in browsers:\n",
    "    browsers_dict[i] = brow_num\n",
    "    brow_num += 1\n",
    "\n",
    "test.BROWSER = test.BROWSER.map(browsers_dict)"
   ]
  },
  {
   "cell_type": "code",
   "execution_count": 9,
   "metadata": {},
   "outputs": [
    {
     "data": {
      "text/html": [
       "<div>\n",
       "<style scoped>\n",
       "    .dataframe tbody tr th:only-of-type {\n",
       "        vertical-align: middle;\n",
       "    }\n",
       "\n",
       "    .dataframe tbody tr th {\n",
       "        vertical-align: top;\n",
       "    }\n",
       "\n",
       "    .dataframe thead th {\n",
       "        text-align: right;\n",
       "    }\n",
       "</style>\n",
       "<table border=\"1\" class=\"dataframe\">\n",
       "  <thead>\n",
       "    <tr style=\"text-align: right;\">\n",
       "      <th></th>\n",
       "      <th>LISTING_KIND</th>\n",
       "      <th>LISTING_CITY</th>\n",
       "      <th>LISTING_PRICE</th>\n",
       "      <th>LOGIN_COUNTRY_CODE</th>\n",
       "      <th>LISTING_COUNTRY_CODE</th>\n",
       "      <th>LISTING_REGISTRATION_POSSIBLE</th>\n",
       "      <th>ADVERTISER_COMPLETENESS_SCORE</th>\n",
       "      <th>MANAGED_ACCOUNT</th>\n",
       "      <th>HAS_PROFILE_PIC</th>\n",
       "      <th>BROWSER</th>\n",
       "      <th>OS</th>\n",
       "      <th>ANONYMISED_EMAIL</th>\n",
       "    </tr>\n",
       "  </thead>\n",
       "  <tbody>\n",
       "    <tr>\n",
       "      <th>0</th>\n",
       "      <td>1</td>\n",
       "      <td>Elche</td>\n",
       "      <td>155.00</td>\n",
       "      <td>es</td>\n",
       "      <td>es</td>\n",
       "      <td>0</td>\n",
       "      <td>35</td>\n",
       "      <td>False</td>\n",
       "      <td>1</td>\n",
       "      <td>1</td>\n",
       "      <td>1</td>\n",
       "      <td>drhzhephmeo@hotmail.com</td>\n",
       "    </tr>\n",
       "    <tr>\n",
       "      <th>1</th>\n",
       "      <td>1</td>\n",
       "      <td>Tilburg</td>\n",
       "      <td>420.00</td>\n",
       "      <td>nl</td>\n",
       "      <td>nl</td>\n",
       "      <td>1</td>\n",
       "      <td>40</td>\n",
       "      <td>False</td>\n",
       "      <td>1</td>\n",
       "      <td>2</td>\n",
       "      <td>2</td>\n",
       "      <td>jorpr80ckig@gmail.com</td>\n",
       "    </tr>\n",
       "    <tr>\n",
       "      <th>2</th>\n",
       "      <td>1</td>\n",
       "      <td>Las Vegas</td>\n",
       "      <td>591.18</td>\n",
       "      <td>us</td>\n",
       "      <td>us</td>\n",
       "      <td>0</td>\n",
       "      <td>100</td>\n",
       "      <td>False</td>\n",
       "      <td>1</td>\n",
       "      <td>3</td>\n",
       "      <td>3</td>\n",
       "      <td>xaswrxawlgba@icloud.com</td>\n",
       "    </tr>\n",
       "    <tr>\n",
       "      <th>3</th>\n",
       "      <td>1</td>\n",
       "      <td>Utrecht</td>\n",
       "      <td>700.00</td>\n",
       "      <td>nl</td>\n",
       "      <td>nl</td>\n",
       "      <td>1</td>\n",
       "      <td>60</td>\n",
       "      <td>False</td>\n",
       "      <td>1</td>\n",
       "      <td>4</td>\n",
       "      <td>4</td>\n",
       "      <td>gnszyfo@universityhousing.nl</td>\n",
       "    </tr>\n",
       "    <tr>\n",
       "      <th>4</th>\n",
       "      <td>1</td>\n",
       "      <td>The Hague</td>\n",
       "      <td>600.00</td>\n",
       "      <td>fr</td>\n",
       "      <td>nl</td>\n",
       "      <td>1</td>\n",
       "      <td>54</td>\n",
       "      <td>False</td>\n",
       "      <td>1</td>\n",
       "      <td>1</td>\n",
       "      <td>2</td>\n",
       "      <td>ttcjbtm@ziggo.nl</td>\n",
       "    </tr>\n",
       "  </tbody>\n",
       "</table>\n",
       "</div>"
      ],
      "text/plain": [
       "   LISTING_KIND LISTING_CITY  LISTING_PRICE LOGIN_COUNTRY_CODE  \\\n",
       "0             1        Elche         155.00                 es   \n",
       "1             1      Tilburg         420.00                 nl   \n",
       "2             1    Las Vegas         591.18                 us   \n",
       "3             1      Utrecht         700.00                 nl   \n",
       "4             1    The Hague         600.00                 fr   \n",
       "\n",
       "  LISTING_COUNTRY_CODE  LISTING_REGISTRATION_POSSIBLE  \\\n",
       "0                   es                              0   \n",
       "1                   nl                              1   \n",
       "2                   us                              0   \n",
       "3                   nl                              1   \n",
       "4                   nl                              1   \n",
       "\n",
       "   ADVERTISER_COMPLETENESS_SCORE  MANAGED_ACCOUNT  HAS_PROFILE_PIC  BROWSER  \\\n",
       "0                             35            False                1        1   \n",
       "1                             40            False                1        2   \n",
       "2                            100            False                1        3   \n",
       "3                             60            False                1        4   \n",
       "4                             54            False                1        1   \n",
       "\n",
       "   OS              ANONYMISED_EMAIL  \n",
       "0   1       drhzhephmeo@hotmail.com  \n",
       "1   2         jorpr80ckig@gmail.com  \n",
       "2   3       xaswrxawlgba@icloud.com  \n",
       "3   4  gnszyfo@universityhousing.nl  \n",
       "4   2              ttcjbtm@ziggo.nl  "
      ]
     },
     "execution_count": 9,
     "metadata": {},
     "output_type": "execute_result"
    }
   ],
   "source": [
    "test.head()"
   ]
  },
  {
   "cell_type": "code",
   "execution_count": 10,
   "metadata": {},
   "outputs": [
    {
     "data": {
      "text/plain": [
       "LISTING_KIND                     0\n",
       "LISTING_CITY                     0\n",
       "LISTING_PRICE                    0\n",
       "LOGIN_COUNTRY_CODE               0\n",
       "LISTING_COUNTRY_CODE             0\n",
       "LISTING_REGISTRATION_POSSIBLE    0\n",
       "ADVERTISER_COMPLETENESS_SCORE    0\n",
       "MANAGED_ACCOUNT                  0\n",
       "HAS_PROFILE_PIC                  0\n",
       "BROWSER                          0\n",
       "OS                               0\n",
       "ANONYMISED_EMAIL                 0\n",
       "dtype: int64"
      ]
     },
     "execution_count": 10,
     "metadata": {},
     "output_type": "execute_result"
    }
   ],
   "source": [
    "test.isnull().sum()"
   ]
  },
  {
   "cell_type": "code",
   "execution_count": 11,
   "metadata": {},
   "outputs": [
    {
     "data": {
      "text/plain": [
       "Index(['LISTING_KIND', 'LISTING_CITY', 'LISTING_PRICE', 'LOGIN_COUNTRY_CODE',\n",
       "       'LISTING_COUNTRY_CODE', 'LISTING_REGISTRATION_POSSIBLE',\n",
       "       'ADVERTISER_COMPLETENESS_SCORE', 'MANAGED_ACCOUNT', 'HAS_PROFILE_PIC',\n",
       "       'BROWSER', 'OS', 'ANONYMISED_EMAIL'],\n",
       "      dtype='object')"
      ]
     },
     "execution_count": 11,
     "metadata": {},
     "output_type": "execute_result"
    }
   ],
   "source": [
    "test.columns"
   ]
  },
  {
   "cell_type": "code",
   "execution_count": 12,
   "metadata": {},
   "outputs": [],
   "source": [
    "# converting the MANAGED_ACCOUNT feature to numerical values\n",
    "\n",
    "mang_account = {False: -1, True: 1}\n",
    "test['MANAGED_ACCOUNT'] = test['MANAGED_ACCOUNT'].map(mang_account)"
   ]
  },
  {
   "cell_type": "code",
   "execution_count": 13,
   "metadata": {},
   "outputs": [],
   "source": [
    "# i want to add new feature that is the orientation of the listing and login country\n",
    "\n",
    "orient_country = list()\n",
    "for i in range(test.shape[0]):\n",
    "    if test['LOGIN_COUNTRY_CODE'][i] == test['LISTING_COUNTRY_CODE'][i]:\n",
    "        orient_country.append(0)\n",
    "    else:\n",
    "        orient_country.append(-1/2)\n",
    "        \n",
    "test['COUNTRY_ORI']=orient_country"
   ]
  },
  {
   "cell_type": "code",
   "execution_count": 14,
   "metadata": {},
   "outputs": [],
   "source": [
    "test.drop(['LOGIN_COUNTRY_CODE', 'LISTING_COUNTRY_CODE'], axis=1, inplace=True)"
   ]
  },
  {
   "cell_type": "code",
   "execution_count": 15,
   "metadata": {},
   "outputs": [
    {
     "data": {
      "text/html": [
       "<div>\n",
       "<style scoped>\n",
       "    .dataframe tbody tr th:only-of-type {\n",
       "        vertical-align: middle;\n",
       "    }\n",
       "\n",
       "    .dataframe tbody tr th {\n",
       "        vertical-align: top;\n",
       "    }\n",
       "\n",
       "    .dataframe thead th {\n",
       "        text-align: right;\n",
       "    }\n",
       "</style>\n",
       "<table border=\"1\" class=\"dataframe\">\n",
       "  <thead>\n",
       "    <tr style=\"text-align: right;\">\n",
       "      <th></th>\n",
       "      <th>LISTING_KIND</th>\n",
       "      <th>LISTING_CITY</th>\n",
       "      <th>LISTING_PRICE</th>\n",
       "      <th>LISTING_REGISTRATION_POSSIBLE</th>\n",
       "      <th>ADVERTISER_COMPLETENESS_SCORE</th>\n",
       "      <th>MANAGED_ACCOUNT</th>\n",
       "      <th>HAS_PROFILE_PIC</th>\n",
       "      <th>BROWSER</th>\n",
       "      <th>OS</th>\n",
       "      <th>ANONYMISED_EMAIL</th>\n",
       "      <th>COUNTRY_ORI</th>\n",
       "    </tr>\n",
       "  </thead>\n",
       "  <tbody>\n",
       "    <tr>\n",
       "      <th>0</th>\n",
       "      <td>1</td>\n",
       "      <td>Elche</td>\n",
       "      <td>155.00</td>\n",
       "      <td>0</td>\n",
       "      <td>35</td>\n",
       "      <td>-1</td>\n",
       "      <td>1</td>\n",
       "      <td>1</td>\n",
       "      <td>1</td>\n",
       "      <td>drhzhephmeo@hotmail.com</td>\n",
       "      <td>0.0</td>\n",
       "    </tr>\n",
       "    <tr>\n",
       "      <th>1</th>\n",
       "      <td>1</td>\n",
       "      <td>Tilburg</td>\n",
       "      <td>420.00</td>\n",
       "      <td>1</td>\n",
       "      <td>40</td>\n",
       "      <td>-1</td>\n",
       "      <td>1</td>\n",
       "      <td>2</td>\n",
       "      <td>2</td>\n",
       "      <td>jorpr80ckig@gmail.com</td>\n",
       "      <td>0.0</td>\n",
       "    </tr>\n",
       "    <tr>\n",
       "      <th>2</th>\n",
       "      <td>1</td>\n",
       "      <td>Las Vegas</td>\n",
       "      <td>591.18</td>\n",
       "      <td>0</td>\n",
       "      <td>100</td>\n",
       "      <td>-1</td>\n",
       "      <td>1</td>\n",
       "      <td>3</td>\n",
       "      <td>3</td>\n",
       "      <td>xaswrxawlgba@icloud.com</td>\n",
       "      <td>0.0</td>\n",
       "    </tr>\n",
       "    <tr>\n",
       "      <th>3</th>\n",
       "      <td>1</td>\n",
       "      <td>Utrecht</td>\n",
       "      <td>700.00</td>\n",
       "      <td>1</td>\n",
       "      <td>60</td>\n",
       "      <td>-1</td>\n",
       "      <td>1</td>\n",
       "      <td>4</td>\n",
       "      <td>4</td>\n",
       "      <td>gnszyfo@universityhousing.nl</td>\n",
       "      <td>0.0</td>\n",
       "    </tr>\n",
       "    <tr>\n",
       "      <th>4</th>\n",
       "      <td>1</td>\n",
       "      <td>The Hague</td>\n",
       "      <td>600.00</td>\n",
       "      <td>1</td>\n",
       "      <td>54</td>\n",
       "      <td>-1</td>\n",
       "      <td>1</td>\n",
       "      <td>1</td>\n",
       "      <td>2</td>\n",
       "      <td>ttcjbtm@ziggo.nl</td>\n",
       "      <td>-0.5</td>\n",
       "    </tr>\n",
       "  </tbody>\n",
       "</table>\n",
       "</div>"
      ],
      "text/plain": [
       "   LISTING_KIND LISTING_CITY  LISTING_PRICE  LISTING_REGISTRATION_POSSIBLE  \\\n",
       "0             1        Elche         155.00                              0   \n",
       "1             1      Tilburg         420.00                              1   \n",
       "2             1    Las Vegas         591.18                              0   \n",
       "3             1      Utrecht         700.00                              1   \n",
       "4             1    The Hague         600.00                              1   \n",
       "\n",
       "   ADVERTISER_COMPLETENESS_SCORE  MANAGED_ACCOUNT  HAS_PROFILE_PIC  BROWSER  \\\n",
       "0                             35               -1                1        1   \n",
       "1                             40               -1                1        2   \n",
       "2                            100               -1                1        3   \n",
       "3                             60               -1                1        4   \n",
       "4                             54               -1                1        1   \n",
       "\n",
       "   OS              ANONYMISED_EMAIL  COUNTRY_ORI  \n",
       "0   1       drhzhephmeo@hotmail.com          0.0  \n",
       "1   2         jorpr80ckig@gmail.com          0.0  \n",
       "2   3       xaswrxawlgba@icloud.com          0.0  \n",
       "3   4  gnszyfo@universityhousing.nl          0.0  \n",
       "4   2              ttcjbtm@ziggo.nl         -0.5  "
      ]
     },
     "execution_count": 15,
     "metadata": {},
     "output_type": "execute_result"
    }
   ],
   "source": [
    "test.head()"
   ]
  },
  {
   "cell_type": "code",
   "execution_count": 16,
   "metadata": {},
   "outputs": [],
   "source": [
    "\n",
    "test.drop(['LISTING_CITY'], axis=1, inplace=True)"
   ]
  },
  {
   "cell_type": "code",
   "execution_count": 17,
   "metadata": {},
   "outputs": [
    {
     "name": "stderr",
     "output_type": "stream",
     "text": [
      "D:\\ProgramFiles\\Anaconda3\\lib\\site-packages\\ipykernel_launcher.py:1: SettingWithCopyWarning: \n",
      "A value is trying to be set on a copy of a slice from a DataFrame\n",
      "\n",
      "See the caveats in the documentation: http://pandas.pydata.org/pandas-docs/stable/indexing.html#indexing-view-versus-copy\n",
      "  \"\"\"Entry point for launching an IPython kernel.\n"
     ]
    }
   ],
   "source": [
    "test['ANONYMISED_EMAIL'][0] = \"drhzhephmeo@hotmail.com\""
   ]
  },
  {
   "cell_type": "code",
   "execution_count": 18,
   "metadata": {},
   "outputs": [
    {
     "name": "stderr",
     "output_type": "stream",
     "text": [
      "D:\\ProgramFiles\\Anaconda3\\lib\\site-packages\\ipykernel_launcher.py:9: SettingWithCopyWarning: \n",
      "A value is trying to be set on a copy of a slice from a DataFrame\n",
      "\n",
      "See the caveats in the documentation: http://pandas.pydata.org/pandas-docs/stable/indexing.html#indexing-view-versus-copy\n",
      "  if __name__ == '__main__':\n"
     ]
    },
    {
     "data": {
      "text/plain": [
       "0                         hotmail\n",
       "1                           gmail\n",
       "2                          icloud\n",
       "3               universityhousing\n",
       "4                           ziggo\n",
       "5                           yiton\n",
       "6                           gmail\n",
       "7                           gmail\n",
       "8                           gmail\n",
       "9                           gmail\n",
       "10               blanket-solution\n",
       "11                           live\n",
       "12                           live\n",
       "13                          gmail\n",
       "14                      frederics\n",
       "15                             hr\n",
       "16          contemporaryrotterdam\n",
       "17                          gmail\n",
       "18                        home112\n",
       "19                           ishr\n",
       "20                   vondereurope\n",
       "21                          gmail\n",
       "22                housinganywhere\n",
       "23                          gmail\n",
       "24              lodgingapartments\n",
       "25                          gmail\n",
       "26      apartmentbarcelonarentals\n",
       "27                          gmail\n",
       "28                        hotmail\n",
       "29                          ikoab\n",
       "                  ...            \n",
       "1888                       monlit\n",
       "1889              habitacionjoven\n",
       "1890                      outlook\n",
       "1891                        gmail\n",
       "1892                        inode\n",
       "1893              thestudenthotel\n",
       "1894                        gmail\n",
       "1895                      hotmail\n",
       "1896                      welkeys\n",
       "1897                        gmail\n",
       "1898                   protonmail\n",
       "1899              housinganywhere\n",
       "1900        internationalshousing\n",
       "1901                       libero\n",
       "1902                        gmail\n",
       "1903                student-cribs\n",
       "1904                      hotmail\n",
       "1905                         live\n",
       "1906              citylifehousing\n",
       "1907                      hotmail\n",
       "1908                      hotmail\n",
       "1909                      outlook\n",
       "1910                        gmail\n",
       "1911                     arthouse\n",
       "1912              housinganywhere\n",
       "1913                weareprojects\n",
       "1914                     neonwood\n",
       "1915                        gmail\n",
       "1916                        ikoab\n",
       "1917              housinganywhere\n",
       "Name: ANONYMISED_EMAIL, Length: 1918, dtype: object"
      ]
     },
     "execution_count": 18,
     "metadata": {},
     "output_type": "execute_result"
    }
   ],
   "source": [
    "def email_regex(email):\n",
    "    email_details = email.split('@')\n",
    "    domain = email_details[1]\n",
    "    main_domain = domain.split('.')[0]\n",
    "    return main_domain\n",
    "\n",
    "index = test.shape[0]\n",
    "for i in range(index):\n",
    "    test['ANONYMISED_EMAIL'][i] = email_regex(test['ANONYMISED_EMAIL'][i])\n",
    "test['ANONYMISED_EMAIL']"
   ]
  },
  {
   "cell_type": "code",
   "execution_count": 19,
   "metadata": {},
   "outputs": [],
   "source": [
    "# در این ستون برای ایمیل هایی که با دامنه های زیر هستند تاثیری در کلاهبرداری دارند زیرا ایمیل هایی که با دامنه مخصوص به شرکت هستند\n",
    "# می توان آن را پیگیری کرد اما دامنه های عمومی معلوم نیست که از چه کسی صادر می شود\n",
    "# به همین دلیل برای آن هایی که عمومی هستند مقدار یک۱ را در نظر میگریم چون تاثیر مثبت در کلاهبرداری دارند و برای دامنه های خصوصی \n",
    "# مقدار (۱-)\n",
    "# در نظر میگیریم\n",
    "\n",
    "public_emails = {\"gmail\": 1, \"yahoo\": 1, \"outlook\": 1, \"hotmail\": 1}\n",
    "\n",
    "test['ANONYMISED_EMAIL'] = test['ANONYMISED_EMAIL'].map(public_emails)"
   ]
  },
  {
   "cell_type": "code",
   "execution_count": 20,
   "metadata": {},
   "outputs": [
    {
     "name": "stderr",
     "output_type": "stream",
     "text": [
      "D:\\ProgramFiles\\Anaconda3\\lib\\site-packages\\ipykernel_launcher.py:3: SettingWithCopyWarning: \n",
      "A value is trying to be set on a copy of a slice from a DataFrame\n",
      "\n",
      "See the caveats in the documentation: http://pandas.pydata.org/pandas-docs/stable/indexing.html#indexing-view-versus-copy\n",
      "  This is separate from the ipykernel package so we can avoid doing imports until\n"
     ]
    }
   ],
   "source": [
    "for i in range(index):\n",
    "    if test['ANONYMISED_EMAIL'][i] != 1:\n",
    "        test['ANONYMISED_EMAIL'][i] = -1"
   ]
  },
  {
   "cell_type": "code",
   "execution_count": 21,
   "metadata": {},
   "outputs": [
    {
     "data": {
      "text/plain": [
       "0       1.0\n",
       "1       1.0\n",
       "2      -1.0\n",
       "3      -1.0\n",
       "4      -1.0\n",
       "5      -1.0\n",
       "6       1.0\n",
       "7       1.0\n",
       "8       1.0\n",
       "9       1.0\n",
       "10     -1.0\n",
       "11     -1.0\n",
       "12     -1.0\n",
       "13      1.0\n",
       "14     -1.0\n",
       "15     -1.0\n",
       "16     -1.0\n",
       "17      1.0\n",
       "18     -1.0\n",
       "19     -1.0\n",
       "20     -1.0\n",
       "21      1.0\n",
       "22     -1.0\n",
       "23      1.0\n",
       "24     -1.0\n",
       "25      1.0\n",
       "26     -1.0\n",
       "27      1.0\n",
       "28      1.0\n",
       "29     -1.0\n",
       "       ... \n",
       "1888   -1.0\n",
       "1889   -1.0\n",
       "1890    1.0\n",
       "1891    1.0\n",
       "1892   -1.0\n",
       "1893   -1.0\n",
       "1894    1.0\n",
       "1895    1.0\n",
       "1896   -1.0\n",
       "1897    1.0\n",
       "1898   -1.0\n",
       "1899   -1.0\n",
       "1900   -1.0\n",
       "1901   -1.0\n",
       "1902    1.0\n",
       "1903   -1.0\n",
       "1904    1.0\n",
       "1905   -1.0\n",
       "1906   -1.0\n",
       "1907    1.0\n",
       "1908    1.0\n",
       "1909    1.0\n",
       "1910    1.0\n",
       "1911   -1.0\n",
       "1912   -1.0\n",
       "1913   -1.0\n",
       "1914   -1.0\n",
       "1915    1.0\n",
       "1916   -1.0\n",
       "1917   -1.0\n",
       "Name: ANONYMISED_EMAIL, Length: 1918, dtype: float64"
      ]
     },
     "execution_count": 21,
     "metadata": {},
     "output_type": "execute_result"
    }
   ],
   "source": [
    "test['ANONYMISED_EMAIL']"
   ]
  },
  {
   "cell_type": "code",
   "execution_count": 22,
   "metadata": {},
   "outputs": [],
   "source": [
    "test.to_csv('test.csv')"
   ]
  },
  {
   "cell_type": "code",
   "execution_count": 23,
   "metadata": {},
   "outputs": [
    {
     "data": {
      "text/html": [
       "<div>\n",
       "<style scoped>\n",
       "    .dataframe tbody tr th:only-of-type {\n",
       "        vertical-align: middle;\n",
       "    }\n",
       "\n",
       "    .dataframe tbody tr th {\n",
       "        vertical-align: top;\n",
       "    }\n",
       "\n",
       "    .dataframe thead th {\n",
       "        text-align: right;\n",
       "    }\n",
       "</style>\n",
       "<table border=\"1\" class=\"dataframe\">\n",
       "  <thead>\n",
       "    <tr style=\"text-align: right;\">\n",
       "      <th></th>\n",
       "      <th>LISTING_KIND</th>\n",
       "      <th>LISTING_PRICE</th>\n",
       "      <th>LISTING_REGISTRATION_POSSIBLE</th>\n",
       "      <th>ADVERTISER_COMPLETENESS_SCORE</th>\n",
       "      <th>MANAGED_ACCOUNT</th>\n",
       "      <th>HAS_PROFILE_PIC</th>\n",
       "      <th>BROWSER</th>\n",
       "      <th>OS</th>\n",
       "      <th>ANONYMISED_EMAIL</th>\n",
       "      <th>COUNTRY_ORI</th>\n",
       "    </tr>\n",
       "  </thead>\n",
       "  <tbody>\n",
       "    <tr>\n",
       "      <th>0</th>\n",
       "      <td>1</td>\n",
       "      <td>155.00</td>\n",
       "      <td>0</td>\n",
       "      <td>35</td>\n",
       "      <td>-1</td>\n",
       "      <td>1</td>\n",
       "      <td>1</td>\n",
       "      <td>1</td>\n",
       "      <td>1.0</td>\n",
       "      <td>0.0</td>\n",
       "    </tr>\n",
       "    <tr>\n",
       "      <th>1</th>\n",
       "      <td>1</td>\n",
       "      <td>420.00</td>\n",
       "      <td>1</td>\n",
       "      <td>40</td>\n",
       "      <td>-1</td>\n",
       "      <td>1</td>\n",
       "      <td>2</td>\n",
       "      <td>2</td>\n",
       "      <td>1.0</td>\n",
       "      <td>0.0</td>\n",
       "    </tr>\n",
       "    <tr>\n",
       "      <th>2</th>\n",
       "      <td>1</td>\n",
       "      <td>591.18</td>\n",
       "      <td>0</td>\n",
       "      <td>100</td>\n",
       "      <td>-1</td>\n",
       "      <td>1</td>\n",
       "      <td>3</td>\n",
       "      <td>3</td>\n",
       "      <td>-1.0</td>\n",
       "      <td>0.0</td>\n",
       "    </tr>\n",
       "    <tr>\n",
       "      <th>3</th>\n",
       "      <td>1</td>\n",
       "      <td>700.00</td>\n",
       "      <td>1</td>\n",
       "      <td>60</td>\n",
       "      <td>-1</td>\n",
       "      <td>1</td>\n",
       "      <td>4</td>\n",
       "      <td>4</td>\n",
       "      <td>-1.0</td>\n",
       "      <td>0.0</td>\n",
       "    </tr>\n",
       "    <tr>\n",
       "      <th>4</th>\n",
       "      <td>1</td>\n",
       "      <td>600.00</td>\n",
       "      <td>1</td>\n",
       "      <td>54</td>\n",
       "      <td>-1</td>\n",
       "      <td>1</td>\n",
       "      <td>1</td>\n",
       "      <td>2</td>\n",
       "      <td>-1.0</td>\n",
       "      <td>-0.5</td>\n",
       "    </tr>\n",
       "  </tbody>\n",
       "</table>\n",
       "</div>"
      ],
      "text/plain": [
       "   LISTING_KIND  LISTING_PRICE  LISTING_REGISTRATION_POSSIBLE  \\\n",
       "0             1         155.00                              0   \n",
       "1             1         420.00                              1   \n",
       "2             1         591.18                              0   \n",
       "3             1         700.00                              1   \n",
       "4             1         600.00                              1   \n",
       "\n",
       "   ADVERTISER_COMPLETENESS_SCORE  MANAGED_ACCOUNT  HAS_PROFILE_PIC  BROWSER  \\\n",
       "0                             35               -1                1        1   \n",
       "1                             40               -1                1        2   \n",
       "2                            100               -1                1        3   \n",
       "3                             60               -1                1        4   \n",
       "4                             54               -1                1        1   \n",
       "\n",
       "   OS  ANONYMISED_EMAIL  COUNTRY_ORI  \n",
       "0   1               1.0          0.0  \n",
       "1   2               1.0          0.0  \n",
       "2   3              -1.0          0.0  \n",
       "3   4              -1.0          0.0  \n",
       "4   2              -1.0         -0.5  "
      ]
     },
     "execution_count": 23,
     "metadata": {},
     "output_type": "execute_result"
    }
   ],
   "source": [
    "test.head()"
   ]
  },
  {
   "cell_type": "code",
   "execution_count": null,
   "metadata": {},
   "outputs": [],
   "source": []
  },
  {
   "cell_type": "code",
   "execution_count": null,
   "metadata": {},
   "outputs": [],
   "source": []
  },
  {
   "cell_type": "code",
   "execution_count": null,
   "metadata": {},
   "outputs": [],
   "source": []
  },
  {
   "cell_type": "code",
   "execution_count": null,
   "metadata": {},
   "outputs": [],
   "source": []
  },
  {
   "cell_type": "code",
   "execution_count": null,
   "metadata": {},
   "outputs": [],
   "source": []
  },
  {
   "cell_type": "code",
   "execution_count": null,
   "metadata": {},
   "outputs": [],
   "source": []
  },
  {
   "cell_type": "code",
   "execution_count": null,
   "metadata": {},
   "outputs": [],
   "source": []
  }
 ],
 "metadata": {
  "kernelspec": {
   "display_name": "Python 3",
   "language": "python",
   "name": "python3"
  },
  "language_info": {
   "codemirror_mode": {
    "name": "ipython",
    "version": 3
   },
   "file_extension": ".py",
   "mimetype": "text/x-python",
   "name": "python",
   "nbconvert_exporter": "python",
   "pygments_lexer": "ipython3",
   "version": "3.6.5"
  }
 },
 "nbformat": 4,
 "nbformat_minor": 4
}
